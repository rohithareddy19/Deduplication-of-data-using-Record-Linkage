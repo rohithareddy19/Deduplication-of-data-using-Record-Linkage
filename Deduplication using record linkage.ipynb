{
 "cells": [
  {
   "cell_type": "code",
   "execution_count": 1,
   "metadata": {},
   "outputs": [],
   "source": [
    "#Import libraries\n",
    "import urllib as url\n",
    "import datetime\n",
    "import pytz\n",
    "import pyodbc\n",
    "import pandas as pd\n",
    "import numpy as np\n",
    "import recordlinkage\n",
    "import datetime as dt\n",
    "import uuid\n",
    "import csv\n",
    "import random, string\n",
    "pd.options.mode.chained_assignment = None"
   ]
  },
  {
   "cell_type": "code",
   "execution_count": null,
   "metadata": {},
   "outputs": [],
   "source": [
    "existing_ids_df = pd.read_csv(r'C:\\existing_data.csv')"
   ]
  },
  {
   "cell_type": "code",
   "execution_count": 6,
   "metadata": {},
   "outputs": [],
   "source": [
    "matched_df = existing_ids_df"
   ]
  },
  {
   "cell_type": "code",
   "execution_count": 11,
   "metadata": {},
   "outputs": [],
   "source": [
    "\n",
    "matched_df1 = matched_df[['CustomerId','Name','Email','Address','unique_id']]"
   ]
  },
  {
   "cell_type": "code",
   "execution_count": 13,
   "metadata": {},
   "outputs": [],
   "source": [
    "by_max_customerId = matched_df1.groupby(['Name','Email','Address','unique_id']).CustomerId.transform(max)"
   ]
  },
  {
   "cell_type": "code",
   "execution_count": 14,
   "metadata": {},
   "outputs": [],
   "source": [
    "matched_df1 = matched_df1.loc[matched_df1.CustomerId == by_max_customerId]"
   ]
  },
  {
   "cell_type": "code",
   "execution_count": 15,
   "metadata": {},
   "outputs": [],
   "source": [
    "replace_values = {np.nan : 'blankprogrammed', '' : 'blankprogrammed',' ':'blankprogrammed'} "
   ]
  },
  {
   "cell_type": "code",
   "execution_count": 16,
   "metadata": {},
   "outputs": [],
   "source": [
    "def replace_frame_values(in_df: pd.DataFrame(), replace_values: dict) -> pd.DataFrame():\n",
    "    \"\"\"\n",
    "    :param in_df:\n",
    "    :param replace_values:\n",
    "    :return:\n",
    "    \"\"\"\n",
    "    return in_df.replace(\n",
    "        {\n",
    "            \"Email\": replace_values,\n",
    "            \"Name\": replace_values,\n",
    "            \"Address\": replace_values\n",
    "        }\n",
    "    )"
   ]
  },
  {
   "cell_type": "code",
   "execution_count": 17,
   "metadata": {},
   "outputs": [],
   "source": [
    "matched_df1 = replace_frame_values(matched_df1, replace_values)"
   ]
  },
  {
   "cell_type": "code",
   "execution_count": null,
   "metadata": {},
   "outputs": [],
   "source": [
    "new_incremental_data = pd.read_csv(r'C:\\new_data.csv')"
   ]
  },
  {
   "cell_type": "code",
   "execution_count": 26,
   "metadata": {},
   "outputs": [],
   "source": [
    "new_incremental_data = replace_frame_values(new_incremental_data, replace_values)\n",
    "new_incremental_data['index1'] = new_incremental_data.index"
   ]
  },
  {
   "cell_type": "code",
   "execution_count": 28,
   "metadata": {},
   "outputs": [],
   "source": [
    "new_incremental_data = new_incremental_data.applymap(lambda s: s.lower().strip() if isinstance(s, str) else s)"
   ]
  },
  {
   "cell_type": "code",
   "execution_count": 29,
   "metadata": {},
   "outputs": [],
   "source": [
    "new_incremental_data['isDuplicateName'] = new_incremental_data['Name'].apply(lambda x: 1 if \"duplicate\" in x else 0)"
   ]
  },
  {
   "cell_type": "code",
   "execution_count": 30,
   "metadata": {},
   "outputs": [],
   "source": [
    "duplicate_clients = new_incremental_data.loc[new_incremental_data['isDuplicateName'] == 1]\n",
    "duplicate_clients = duplicate_clients[['CustomerId','Name','isDuplicateName']]"
   ]
  },
  {
   "cell_type": "code",
   "execution_count": 31,
   "metadata": {},
   "outputs": [],
   "source": [
    "duplicate_stop_words = ['dont use me','#','0','1','2','3','4','5','6','7','8','9',',','dont use',\\\n",
    "'use instead','!',':','this one','duplicate', '*', '(', ')',\"'\", 'account','please use other', 'do not use', 'acct.','acct', \\\n",
    "'-','acc','&','/','+','&','[',']','please','use','instead']\n",
    "\n",
    "NameNew = []\n",
    "for index, row in duplicate_clients.iterrows():\n",
    "    if row['isDuplicateName'] == 1:\n",
    "        match_word = row['Name']\n",
    "        for item in duplicate_stop_words:\n",
    "            if item in match_word:                \n",
    "                match_word = match_word.replace(item,'')\n",
    "        NameNew.append(match_word.strip())\n",
    "    else:\n",
    "        NameNew.append(row['Name'])\n",
    "\n",
    "duplicate_clients['Name_duplicate'] = NameNew\n",
    "#duplicate_clients"
   ]
  },
  {
   "cell_type": "code",
   "execution_count": 32,
   "metadata": {},
   "outputs": [],
   "source": [
    "duplicate_clients = duplicate_clients[['CustomerId','Name_duplicate']]"
   ]
  },
  {
   "cell_type": "code",
   "execution_count": 33,
   "metadata": {},
   "outputs": [],
   "source": [
    "new_incremental_data = pd.merge(new_incremental_data, duplicate_clients,how='left',left_on='CustomerId',right_on='CustomerId')"
   ]
  },
  {
   "cell_type": "code",
   "execution_count": 34,
   "metadata": {},
   "outputs": [],
   "source": [
    "new_incremental_data['Name'] = np.where(new_incremental_data['isDuplicateName'] == 1, new_incremental_data['Name_duplicate'], new_incremental_data['Name'])"
   ]
  },
  {
   "cell_type": "code",
   "execution_count": 35,
   "metadata": {},
   "outputs": [],
   "source": [
    "new_incremental_data = replace_frame_values(new_incremental_data, replace_values)"
   ]
  },
  {
   "cell_type": "code",
   "execution_count": 36,
   "metadata": {},
   "outputs": [],
   "source": [
    "unnamed_conditions = [\n",
    "    (new_incremental_data['Name'] == 'blankprogrammed') & (new_incremental_data['Email'] == 'blankprogrammed'),\n",
    "    (new_incremental_data['Name'] == 'blankprogrammed') | (new_incremental_data['Email'] == 'blankprogrammed')\n",
    "    ]\n",
    "\n",
    "\n",
    "unnamed_values = [1,0]\n",
    "new_incremental_data['isUnamedName'] = np.select(unnamed_conditions, unnamed_values)"
   ]
  },
  {
   "cell_type": "code",
   "execution_count": 37,
   "metadata": {},
   "outputs": [
    {
     "name": "stdout",
     "output_type": "stream",
     "text": [
      "(493891, 25)\n"
     ]
    }
   ],
   "source": [
    "#identifying the test clients;\n",
    "new_incremental_data.shape\n",
    "new_incremental_data[new_incremental_data['Name'].str.contains(\"test\") & new_incremental_data['Name'].str.contains(\"\\*\")] \n",
    "\n",
    "conditions = [\n",
    "    (new_incremental_data['Name'].str.contains(\"test\") & new_incremental_data['Name'].str.contains(\"\\*\")),\n",
    "    (new_incremental_data['isUnamedName'] == 1 ),\n",
    "    (new_incremental_data['Name'].str.contains(\"test\") & ~new_incremental_data['Name'].str.contains(\"\\*\") & \\\n",
    "        new_incremental_data['isUnamedName'] == 0),\n",
    "    (~new_incremental_data['Name'].str.contains(\"test\") & new_incremental_data['isUnamedName'] == 0 )\n",
    "]\n",
    "\n",
    "values = ['ID-00000000-0000-0000-0000-000000000000','ID-00000000-0000-0000-0000-000000000001','notTest','notTest']\n",
    "\n",
    "\n",
    "new_incremental_data['testId'] = np.select(conditions, values)\n",
    "\n",
    "print(new_incremental_data.shape)"
   ]
  },
  {
   "cell_type": "code",
   "execution_count": null,
   "metadata": {},
   "outputs": [],
   "source": [
    "new_incremental_data = new_incremental_data.drop_duplicates()"
   ]
  },
  {
   "cell_type": "code",
   "execution_count": 41,
   "metadata": {},
   "outputs": [],
   "source": [
    "new_df = new_incremental_data[new_incremental_data['testId'] == 'notTest'][['CustomerId','Name','Email','Address']]"
   ]
  },
  {
   "cell_type": "code",
   "execution_count": 42,
   "metadata": {},
   "outputs": [],
   "source": [
    "new_df = new_df.drop_duplicates()"
   ]
  },
  {
   "cell_type": "code",
   "execution_count": 45,
   "metadata": {},
   "outputs": [],
   "source": [
    "new_df['isNewData'] = 1\n",
    "matched_df1['isNewData'] = 0"
   ]
  },
  {
   "cell_type": "code",
   "execution_count": 46,
   "metadata": {},
   "outputs": [],
   "source": [
    "matched_df2 = matched_df1[['CustomerId','Name','Email','Address','isNewData']]"
   ]
  },
  {
   "cell_type": "code",
   "execution_count": 48,
   "metadata": {},
   "outputs": [],
   "source": [
    "final_df = pd.concat([new_df,matched_df2])\n",
    "final_df = final_df.drop_duplicates()\n",
    "final_df['index1'] = final_df.index\n",
    "final_df.index = np.arange(len(final_df))"
   ]
  },
  {
   "cell_type": "code",
   "execution_count": 53,
   "metadata": {},
   "outputs": [],
   "source": [
    "all_columns_df = final_df"
   ]
  },
  {
   "cell_type": "code",
   "execution_count": 54,
   "metadata": {},
   "outputs": [],
   "source": [
    "final_df = all_columns_df[['CustomerId','Name','Email','Address']]"
   ]
  },
  {
   "cell_type": "code",
   "execution_count": null,
   "metadata": {},
   "outputs": [],
   "source": [
    "#passing the data through record linkage package\n",
    "indexer = recordlinkage.Index()\n",
    "indexer.block(left_on=['CustomerId'])\n",
    "indexer.block(left_on=['Name','Email'])\n",
    "indexer.block(left_on=['Name','Address'])\n",
    "candidate_links = indexer.index(final_df)"
   ]
  },
  {
   "cell_type": "code",
   "execution_count": null,
   "metadata": {},
   "outputs": [],
   "source": [
    "# This cell can take some time to compute.\n",
    "compare_cl = recordlinkage.Compare()\n",
    "compare_cl.exact('CustomerId', 'CustomerId', label='CustomerId')\n",
    "compare_cl.exact('Email', 'Email', label='Email')\n",
    "compare_cl.exact('Name', 'Name', label='Name')\n",
    "compare_cl.exact('Address', 'Address', label='Address')\n",
    "\n",
    "features = compare_cl.compute(candidate_links, final_df)"
   ]
  },
  {
   "cell_type": "code",
   "execution_count": null,
   "metadata": {},
   "outputs": [],
   "source": [
    "final_df['index2'] = final_df.index"
   ]
  },
  {
   "cell_type": "code",
   "execution_count": null,
   "metadata": {},
   "outputs": [],
   "source": [
    "matched_id_features = features.loc[(features['CustomerId'] == 1), ['CustomerId']]\n",
    "matched_id_indexes  =  matched_id_features.index\n",
    "matched_id_df = matched_id_indexes.to_frame(name=['x','y'],index=False)\n",
    "print('matched_id_df',matched_id_df.shape)\n",
    "matched_id_df = pd.merge(matched_id_df,final_df[['index2','CustomerId']],how='left',left_on='x',right_on='index2')"
   ]
  },
  {
   "cell_type": "code",
   "execution_count": null,
   "metadata": {},
   "outputs": [],
   "source": [
    "#matched_id_df.columns\n",
    "matched_id_df = matched_id_df.rename(columns={\"CustomerId\": \"CustomerId_x\"})\n",
    "matched_id_df.columns"
   ]
  },
  {
   "cell_type": "code",
   "execution_count": null,
   "metadata": {},
   "outputs": [],
   "source": [
    "matched_id_df = pd.merge(matched_id_df,final_df[['index2','CustomerId']],how='left',left_on='y',right_on='index2')\n",
    "matched_id_df = matched_id_df.rename(columns={\"CustomerId\": \"CustomerId_y\"})\n",
    "matched_id_df.columns"
   ]
  },
  {
   "cell_type": "code",
   "execution_count": null,
   "metadata": {},
   "outputs": [],
   "source": [
    "matched_id_df = matched_id_df[['CustomerId_x','CustomerId_y']]"
   ]
  },
  {
   "cell_type": "code",
   "execution_count": null,
   "metadata": {},
   "outputs": [],
   "source": [
    "matched_id_df.head()"
   ]
  },
  {
   "cell_type": "code",
   "execution_count": null,
   "metadata": {},
   "outputs": [],
   "source": [
    "matched_indexes_all= features.loc[ (features['Name'] == 1) & (features['Email']==1)\\\n",
    "                                  & (features['Address']==1),\\\n",
    "     ['Name','Email','Address']]\n",
    "matched_all = matched_indexes_all.index\n",
    "all_df = matched_all.to_frame(name=['x', 'y'],index=False)\n",
    "print(all_df.shape)\n",
    "\n",
    "all_df = pd.merge(all_df, final_df[['Name','Email','Address','index2']],how='left',left_on='x',right_on='index2')\n",
    "all_df = all_df.loc[(all_df['Name']!='blankprogrammed')]\n",
    "all_df = all_df.loc[(all_df['Email']!='blankprogrammed') | (all_df['Address']!='blankprogrammed')]\n",
    "all_df = all_df[['x','y']]\n",
    "all_df = pd.merge(all_df,final_df[['index2','CustomerId']],how='left',left_on='x',right_on='index2')\n",
    "all_df = all_df.rename(columns={\"CustomerId\": \"CustomerId_x\"})\n",
    "all_df = pd.merge(all_df,final_df[['index2','CustomerId']],how='left',left_on='y',right_on='index2')\n",
    "all_df = all_df.rename(columns={\"CustomerId\": \"CustomerId_y\"})\n",
    "all_df = all_df[['CustomerId_x','CustomerId_y']]\n",
    "all_df.shape"
   ]
  },
  {
   "cell_type": "code",
   "execution_count": null,
   "metadata": {},
   "outputs": [],
   "source": [
    "name_email_features = features.loc[ (features['Name'] == 1) & (features['Email']==1) \\\n",
    "                                   & (features['Address']==0)]\n",
    "name_email = name_email_features.index\n",
    "name_email_df = name_email.to_frame(name=['x', 'y'],index=False)\n",
    "\n",
    "name_email_df = pd.merge(name_email_df, final_df[['Name','Email','Address','index2']],how='left',left_on='x',right_on='index2')\n",
    "name_email_df = name_email_df.loc[(name_email_df['Name']!='blankprogrammed')]\n",
    "name_email_df = name_email_df.loc[(name_email_df['Email']!='blankprogrammed')] \n",
    "name_email_df = name_email_df[['x','y']]\n",
    "print(name_email_df.shape)\n",
    "name_email_df = pd.merge(name_email_df,final_df[['index2','CustomerId']],how='left',left_on='x',right_on='index2')\n",
    "name_email_df = name_email_df.rename(columns={\"CustomerId\": \"CustomerId_x\"})\n",
    "name_email_df = pd.merge(name_email_df,final_df[['index2','CustomerId']],how='left',left_on='y',right_on='index2')\n",
    "name_email_df = name_email_df.rename(columns={\"CustomerId\": \"CustomerId_y\"})\n",
    "name_email_df = name_email_df[['CustomerId_x','CustomerId_y']]\n",
    "print(name_email_df.shape)"
   ]
  },
  {
   "cell_type": "code",
   "execution_count": null,
   "metadata": {},
   "outputs": [],
   "source": [
    "name_address_features = features.loc[ ((features['Name'] == 1) & (features['Email']==0) & \\\n",
    "                                       (features['Address']==1))]\n",
    "name_address = name_address_features.index\n",
    "name_address_df = name_address.to_frame(name=['x', 'y'],index=False)\n",
    "\n",
    "name_address_df = pd.merge(name_address_df, final_df[['Name','Email','Address','index2']],how='left',left_on='x',right_on='index2')\n",
    "name_address_df = name_address_df.loc[(name_address_df['Name']!='blankprogrammed')]\n",
    "name_address_df = name_address_df.loc[(name_address_df['Address']!='blankprogrammed')]\n",
    "name_address_df_col = name_address_df\n",
    "name_address_df = name_address_df[['x','y']]\n",
    "print(name_address_df.shape)\n",
    "name_address_df = pd.merge(name_address_df,final_df[['index2','CustomerId']],how='left',left_on='x',right_on='index2')\n",
    "name_address_df = name_address_df.rename(columns={\"CustomerId\": \"CustomerId_x\"})\n",
    "name_address_df = pd.merge(name_address_df,final_df[['index2','CustomerId']],how='left',left_on='y',right_on='index2')\n",
    "name_address_df = name_address_df.rename(columns={\"CustomerId\": \"CustomerId_y\"})\n",
    "name_address_df_test = name_address_df[['CustomerId_x','CustomerId_y','x','y']]\n",
    "name_address_df = name_address_df[['CustomerId_x','CustomerId_y']]\n",
    "print(name_address_df.shape)"
   ]
  },
  {
   "cell_type": "code",
   "execution_count": null,
   "metadata": {},
   "outputs": [],
   "source": [
    "all_combinations_df_1 = pd.concat([all_df,matched_id_df])\n",
    "all_combinations_df_2 = pd.concat([all_combinations_df_1,name_email_df])\n",
    "all_combinations_df = pd.concat([name_address_df,all_combinations_df_2])\n",
    "print(all_combinations_df.shape)\n",
    "all_combinations_multiIndex = pd.MultiIndex.from_frame(all_combinations_df)\n",
    "print(all_combinations_multiIndex.shape)"
   ]
  },
  {
   "cell_type": "code",
   "execution_count": null,
   "metadata": {},
   "outputs": [],
   "source": [
    "all_combinations_multiIndex = all_combinations_multiIndex.drop_duplicates()\n",
    "print(all_combinations_multiIndex.shape)"
   ]
  },
  {
   "cell_type": "code",
   "execution_count": null,
   "metadata": {},
   "outputs": [],
   "source": [
    "l = all_combinations_multiIndex\n",
    "\n",
    "# get all unique elements (\"nodes\") of `l'\n",
    "nodes = set().union(*map(set, l))\n",
    "#print(nodes)\n",
    "\n",
    "comp = {node:{node} for node in nodes}\n",
    "#print(comp)\n",
    "\n",
    "while True:\n",
    "    \n",
    "    merged = False\n",
    "    new_l = []  # will drop edges that have already been used in a merge\n",
    "    for n1, n2 in l:\n",
    "        #print(n1)\n",
    "        #print(n2)\n",
    "        if comp[n1] is not comp[n2]:\n",
    "            # the two connected components are not the same, so merge them\n",
    "            #print(comp[n1],comp[n2])\n",
    "            #print(type(comp[n1]))\n",
    "            new_comp = comp[n1] | comp[n2]\n",
    "            #print(new_comp)\n",
    "            for n in new_comp:\n",
    "                #print(n)\n",
    "                comp[n] = new_comp\n",
    "                #print(comp[n])\n",
    "            merged = True\n",
    "        else:\n",
    "          # keep the pair for the next iteration\n",
    "            new_l.append((n1, n2))\n",
    "            #print(new_l)\n",
    "    if not merged:\n",
    "        # all done\n",
    "        break\n",
    "    l = new_l\n",
    "\n",
    "# now print all distinct connected components\n",
    "final_list = []\n",
    "for c in set(map(frozenset, comp.values())):\n",
    "    #print(list(c))\n",
    "    final_list.append(list(c))\n",
    "print(len(final_list))\n",
    "#print(final_list)\n"
   ]
  },
  {
   "cell_type": "code",
   "execution_count": null,
   "metadata": {},
   "outputs": [],
   "source": [
    "#distinct client indexes\n",
    "import itertools\n",
    "matched_indexes_single_list = []\n",
    "for sub_list in range(len(final_list)):\n",
    "    inner_list = final_list[sub_list]\n",
    "    for item in range(len(inner_list)):\n",
    "        matched_indexes_single_list.append(inner_list[item])\n",
    "print(len(matched_indexes_single_list))\n",
    "\n",
    "all_indexes_df = pd.DataFrame()\n",
    "all_indexes_df['CustomerIdNew'] = matched_indexes_single_list\n",
    "all_indexes_df = pd.merge(final_df['CustomerId'], all_indexes_df, how='left', left_on = 'CustomerId', right_on ='CustomerIdNew')\n",
    "all_indexes_df['CustomerIdNew'] = all_indexes_df['CustomerIdNew'].replace(np.nan,'None')\n",
    "unique_indexes = all_indexes_df['CustomerId'].loc[(all_indexes_df['CustomerIdNew'] == 'None')].to_list()\n",
    "print(len(unique_indexes))\n",
    "\n",
    "#appending matched index pairs and unique indexes into one single list\n",
    "full_list = []\n",
    "for each_item in range(len(final_list)):\n",
    "    full_list.append(final_list[each_item])\n",
    "for each_item in range(len(unique_indexes)):\n",
    "    full_list.append(unique_indexes[each_item])\n",
    "print(len(full_list))\n",
    "#print(full_list)"
   ]
  },
  {
   "cell_type": "code",
   "execution_count": null,
   "metadata": {
    "scrolled": true
   },
   "outputs": [],
   "source": [
    "matched_ids_dict = matched_df1[['CustomerId','unique_id']]"
   ]
  },
  {
   "cell_type": "code",
   "execution_count": null,
   "metadata": {},
   "outputs": [],
   "source": [
    "matched_customer_keys_df = pd.DataFrame()\n",
    "matched_customer_keys_df['matched_keys'] = full_list"
   ]
  },
  {
   "cell_type": "code",
   "execution_count": null,
   "metadata": {},
   "outputs": [],
   "source": [
    "unique_dict: dict\n",
    "matched_ids = {}\n",
    "unmatched_ids = []\n",
    "def convert_list(in_str: str):\n",
    "    #print('func')\n",
    "    in_list = in_str.replace(\"'\", \"\").replace('\"', '').replace('[', '').replace(']', '').replace(',', '').split(\" \")\n",
    "    #print(in_list)\n",
    "    # out_list = [int(item) if isinstance(item, int) else item for item in in_list]\n",
    "    out_list = [int(item) for item in in_list]\n",
    "    #print(out_list)\n",
    "    #print('func end')\n",
    "    out_list.sort()\n",
    "    return out_list"
   ]
  },
  {
   "cell_type": "code",
   "execution_count": null,
   "metadata": {},
   "outputs": [],
   "source": [
    "#checking if the unique id already exists, if yes assign the same unique id to the new customer Id\n",
    "def check_element(in_list: list):\n",
    "    global matched_ids\n",
    "    is_match = False\n",
    "    unique_key = -1\n",
    "    unique_id_val = \"\"\n",
    "    #print(in_list)\n",
    "    for e in in_list:\n",
    "        #print(e)\n",
    "        if e in unique_dict.keys():\n",
    "            #print('match found')\n",
    "            is_match = True\n",
    "            unique_key = e\n",
    "            #print(unique_key)\n",
    "            unique_id_val = unique_dict[unique_key]\n",
    "            #print(unique_id_val)\n",
    "    if is_match:\n",
    "        if unique_id_val not in matched_ids.keys():\n",
    "            matched_ids[unique_id_val] = {\"matching_key\": unique_key, \"dupe_keys\": in_list}\n",
    "            #print(matched_ids[unique_id_val])\n",
    "        else:\n",
    "            new_id = matched_ids[unique_id_val][\"dupe_keys\"] + in_list\n",
    "            matched_ids[unique_id_val] = {\"matching_key\": unique_key, \"dupe_keys\": new_id}\n",
    "            #print(matched_ids[unique_id_val])\n",
    "        #print('macthed_list')\n",
    "        #print(matched_ids)\n",
    "    else:\n",
    "        #print('unmatched_list')\n",
    "        unmatched_ids.append(in_list)\n",
    "        #print(unmatched_ids)\n",
    "\n",
    "global unique_dict\n",
    "print('start time: ',dt.datetime.utcnow().strftime('%Y/%m/%d %H:%M:%S'))\n",
    "dupes_list = [convert_list(str(col)) for col in matched_customer_keys_df[\"matched_keys\"]]\n",
    "#print(dupes_list)\n",
    "unique_dict = {\n",
    "    int(col[0]): col[1] for col in matched_ids_dict[[\"CustomerId\", \"unique_id\"]].values #dict:key value pair\n",
    "    }\n",
    "_ = [check_element(element) for element in dupes_list]\n",
    "print(f\"Matched Ids Count:  {len(matched_ids):,}\")\n",
    "print('end time: ',dt.datetime.utcnow().strftime('%Y/%m/%d %H:%M:%S'))"
   ]
  },
  {
   "cell_type": "code",
   "execution_count": null,
   "metadata": {},
   "outputs": [],
   "source": [
    "matched_ids_df = pd.DataFrame.from_dict(matched_ids)\n",
    "matched_ids_trans_df = matched_ids_df.T\n",
    "matched_ids_trans_df.reset_index(inplace=True)\n",
    "matched_ids_trans_df = matched_ids_trans_df.rename(columns = {'index':'uid'})\n",
    "matched_ids_trans_df = matched_ids_trans_df[['uid','dupe_keys']]"
   ]
  },
  {
   "cell_type": "code",
   "execution_count": null,
   "metadata": {},
   "outputs": [],
   "source": [
    "#the new customers found in the existing unique ids\n",
    "unique_matched_ids_df = matched_ids_trans_df.explode('dupe_keys').drop_duplicates().rename(columns={'dupe_keys':'customerKey'})"
   ]
  },
  {
   "cell_type": "code",
   "execution_count": null,
   "metadata": {},
   "outputs": [],
   "source": [
    "existing_uids = matched_df['unique_id'].drop_duplicates().to_list()"
   ]
  },
  {
   "cell_type": "code",
   "execution_count": null,
   "metadata": {},
   "outputs": [],
   "source": [
    "new_existing_uids = [v.replace('ID-','') for v in existing_uids] "
   ]
  },
  {
   "cell_type": "code",
   "execution_count": null,
   "metadata": {},
   "outputs": [],
   "source": [
    "#checking id the unique id already exists\n",
    "def if_uid_exists(new_counter,loop_counter): \n",
    "    new_ids_list = []\n",
    "    new_list_var = []\n",
    "    new_list = []\n",
    "    match_df = pd.DataFrame()\n",
    "    new_list = [str(uuid.uuid4()) for i in range(new_counter)] \n",
    "    print(len(new_list))\n",
    "    new_df = pd.DataFrame()\n",
    "    new_df['new_uid'] = new_list\n",
    "    if loop_counter ==0:\n",
    "        old_uid_df = pd.DataFrame()\n",
    "        old_uid_df['old_uid'] = new_existing_uids\n",
    "        match_df = pd.merge(old_uid_df, new_df, how='outer', left_on='old_uid', right_on='new_uid')\n",
    "    else:\n",
    "        match_df = pd.merge(existing_uid_df, new_df, how='outer', left_on='old_uid', right_on='new_uid')\n",
    "    match_df = match_df.replace(np.nan,'None')\n",
    "    print(match_df.shape)\n",
    "    cnt = match_df.loc[(match_df['old_uid'] != 'None') & (match_df['new_uid'] != 'None')].shape[0]\n",
    "    new_list_var = match_df['new_uid'].loc[(match_df['old_uid'] == 'None')].values.tolist()\n",
    "    #print(cnt)\n",
    "    if cnt> 0:\n",
    "        loop_counter += 1\n",
    "        print('cnt greater')\n",
    "        newly_added_ids = match_df['new_uid'].loc[(match_df['old_uid'] == 'None') & (match_df['new_uid'] != 'None') ]\n",
    "        _ = [new_ids_list.append(z) for z in new_list_var]\n",
    "        old_uid_df = pd.concat([old_uid_df,newly_added_ids])\n",
    "        return if_uid_exists(cnt,loop_counter)\n",
    "    else: \n",
    "        print('done')\n",
    "        #new_ids_list = match_df['new_uid'].loc[(match_df['old_uid'] == 'None')].values.tolist()       \n",
    "        _ = [new_ids_list.append(z) for z in new_list_var]\n",
    "        print(len(new_ids_list))\n",
    "        #print(new_ids_list[0:100])\n",
    "        return new_ids_list\n",
    "    #old_uid_df = existing_uid_df\n",
    "\n"
   ]
  },
  {
   "cell_type": "code",
   "execution_count": null,
   "metadata": {},
   "outputs": [],
   "source": [
    "print('start time: ',dt.datetime.utcnow().strftime('%Y/%m/%d %H:%M:%S'))\n",
    "new = []\n",
    "brand_new_ids = []\n",
    "brand_new_ids1 = []\n",
    "new_counter = len(unmatched_ids)\n",
    "loop_counter = 0\n",
    "new = if_uid_exists(new_counter,loop_counter)\n",
    "_ = [brand_new_ids.append(i) for i in new]\n",
    "len(brand_new_ids)\n",
    "print('start time: ',dt.datetime.utcnow().strftime('%Y/%m/%d %H:%M:%S'))"
   ]
  },
  {
   "cell_type": "code",
   "execution_count": null,
   "metadata": {},
   "outputs": [],
   "source": [
    "uid_final_list = ['ID-' + x for x in brand_new_ids]"
   ]
  },
  {
   "cell_type": "code",
   "execution_count": null,
   "metadata": {},
   "outputs": [],
   "source": [
    "matched_ids_trans_df = matched_ids_trans_df.rename(columns={'uid':'unique_id', 'dupe_keys':'matched_keys'})"
   ]
  },
  {
   "cell_type": "code",
   "execution_count": null,
   "metadata": {},
   "outputs": [],
   "source": [
    "matched_pairs_df = pd.DataFrame()\n",
    "matched_pairs_df['unique_id'] = uid_final_list\n",
    "matched_pairs_df['matched_keys'] = unmatched_ids\n",
    "matched_pairs_df"
   ]
  },
  {
   "cell_type": "code",
   "execution_count": null,
   "metadata": {},
   "outputs": [],
   "source": [
    "final_incremental_df = pd.concat([matched_ids_trans_df,matched_pairs_df])"
   ]
  },
  {
   "cell_type": "code",
   "execution_count": null,
   "metadata": {},
   "outputs": [],
   "source": [
    "unique_ids_df = final_incremental_df.explode('matched_keys')\n",
    "unique_ids_df = unique_ids_df.drop_duplicates()"
   ]
  },
  {
   "cell_type": "code",
   "execution_count": null,
   "metadata": {},
   "outputs": [],
   "source": [
    "new_incremental_data['CustomerId'] = new_incremental_data['CustomerId'].astype(int)"
   ]
  },
  {
   "cell_type": "code",
   "execution_count": null,
   "metadata": {},
   "outputs": [],
   "source": [
    "result = pd.merge(new_incremental_data, unique_ids_df, how=\"left\", left_on=\"CustomerId\",right_on = 'matched_keys')\n",
    "print(result.shape)\n",
    "result\n",
    "result['unique_id'] = np.where(result['testId'] != 'notTest',result['testId'],result['unique_id'])\n",
    "#print(result)"
   ]
  },
  {
   "cell_type": "code",
   "execution_count": null,
   "metadata": {},
   "outputs": [],
   "source": [
    "replace_values = {'blankprogrammed':np.nan} \n",
    "result = result.replace({\"Email\":replace_values, \"Name\": replace_values,\\\n",
    "                  \"Address\":replace_values}) "
   ]
  },
  {
   "cell_type": "code",
   "execution_count": null,
   "metadata": {},
   "outputs": [],
   "source": [
    "result = result[['CustomerId','Email','Address','Name','isDuplicateName','Name_duplicate','isUnamed','testId','unique_id']]"
   ]
  },
  {
   "cell_type": "code",
   "execution_count": null,
   "metadata": {},
   "outputs": [],
   "source": [
    "result.ro_csv(r'C:\\results.csv')"
   ]
  }
 ],
 "metadata": {
  "kernelspec": {
   "display_name": "Python 3.8.8 ('base')",
   "language": "python",
   "name": "python3"
  },
  "language_info": {
   "codemirror_mode": {
    "name": "ipython",
    "version": 3
   },
   "file_extension": ".py",
   "mimetype": "text/x-python",
   "name": "python",
   "nbconvert_exporter": "python",
   "pygments_lexer": "ipython3",
   "version": "3.8.8"
  },
  "vscode": {
   "interpreter": {
    "hash": "b989bcdf3ebae2fcdf8158c6df84c0379a401fc1e1b00ef8bbf763f00c429c14"
   }
  }
 },
 "nbformat": 4,
 "nbformat_minor": 2
}
